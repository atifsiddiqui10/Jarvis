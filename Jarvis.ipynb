{
 "cells": [
  {
   "cell_type": "code",
   "execution_count": null,
   "metadata": {},
   "outputs": [],
   "source": [
    "#Speech Recognition "
   ]
  },
  {
   "cell_type": "code",
   "execution_count": 29,
   "metadata": {},
   "outputs": [
    {
     "name": "stdout",
     "output_type": "stream",
     "text": [
      "Requirement already satisfied: pyttsx3 in /opt/anaconda3/lib/python3.8/site-packages (2.90)\n",
      "Requirement already satisfied: pyobjc>=2.4; platform_system == \"Darwin\" in /opt/anaconda3/lib/python3.8/site-packages (from pyttsx3) (7.1)\n",
      "Requirement already satisfied: pyobjc-framework-WebKit==7.1 in /opt/anaconda3/lib/python3.8/site-packages (from pyobjc>=2.4; platform_system == \"Darwin\"->pyttsx3) (7.1)\n",
      "Requirement already satisfied: pyobjc-framework-PreferencePanes==7.1 in /opt/anaconda3/lib/python3.8/site-packages (from pyobjc>=2.4; platform_system == \"Darwin\"->pyttsx3) (7.1)\n",
      "Requirement already satisfied: pyobjc-framework-GameController==7.1; platform_release >= \"13.0\" in /opt/anaconda3/lib/python3.8/site-packages (from pyobjc>=2.4; platform_system == \"Darwin\"->pyttsx3) (7.1)\n",
      "Requirement already satisfied: pyobjc-framework-OSAKit==7.1 in /opt/anaconda3/lib/python3.8/site-packages (from pyobjc>=2.4; platform_system == \"Darwin\"->pyttsx3) (7.1)\n",
      "Requirement already satisfied: pyobjc-framework-IOSurface==7.1; platform_release >= \"10.0\" in /opt/anaconda3/lib/python3.8/site-packages (from pyobjc>=2.4; platform_system == \"Darwin\"->pyttsx3) (7.1)\n",
      "Requirement already satisfied: pyobjc-framework-SafariServices==7.1; platform_release >= \"15.0\" in /opt/anaconda3/lib/python3.8/site-packages (from pyobjc>=2.4; platform_system == \"Darwin\"->pyttsx3) (7.1)\n",
      "Requirement already satisfied: pyobjc-framework-FSEvents==7.1; platform_release >= \"9.0\" in /opt/anaconda3/lib/python3.8/site-packages (from pyobjc>=2.4; platform_system == \"Darwin\"->pyttsx3) (7.1)\n",
      "Requirement already satisfied: pyobjc-framework-NotificationCenter==7.1; platform_release >= \"14.0\" in /opt/anaconda3/lib/python3.8/site-packages (from pyobjc>=2.4; platform_system == \"Darwin\"->pyttsx3) (7.1)\n",
      "Requirement already satisfied: pyobjc-framework-AuthenticationServices==7.1; platform_release >= \"19.0\" in /opt/anaconda3/lib/python3.8/site-packages (from pyobjc>=2.4; platform_system == \"Darwin\"->pyttsx3) (7.1)\n",
      "Requirement already satisfied: pyobjc-framework-Collaboration==7.1; platform_release >= \"9.0\" in /opt/anaconda3/lib/python3.8/site-packages (from pyobjc>=2.4; platform_system == \"Darwin\"->pyttsx3) (7.1)\n",
      "Requirement already satisfied: pyobjc-framework-CoreServices==7.1 in /opt/anaconda3/lib/python3.8/site-packages (from pyobjc>=2.4; platform_system == \"Darwin\"->pyttsx3) (7.1)\n",
      "Requirement already satisfied: pyobjc-framework-Intents==7.1; platform_release >= \"16.0\" in /opt/anaconda3/lib/python3.8/site-packages (from pyobjc>=2.4; platform_system == \"Darwin\"->pyttsx3) (7.1)\n",
      "Requirement already satisfied: pyobjc-framework-CoreAudioKit==7.1 in /opt/anaconda3/lib/python3.8/site-packages (from pyobjc>=2.4; platform_system == \"Darwin\"->pyttsx3) (7.1)\n",
      "Requirement already satisfied: pyobjc-framework-MediaPlayer==7.1; platform_release >= \"16.0\" in /opt/anaconda3/lib/python3.8/site-packages (from pyobjc>=2.4; platform_system == \"Darwin\"->pyttsx3) (7.1)\n",
      "Requirement already satisfied: pyobjc-framework-ModelIO==7.1; platform_release >= \"15.0\" in /opt/anaconda3/lib/python3.8/site-packages (from pyobjc>=2.4; platform_system == \"Darwin\"->pyttsx3) (7.1)\n",
      "Requirement already satisfied: pyobjc-framework-Metal==7.1; platform_release >= \"15.0\" in /opt/anaconda3/lib/python3.8/site-packages (from pyobjc>=2.4; platform_system == \"Darwin\"->pyttsx3) (7.1)\n",
      "Requirement already satisfied: pyobjc-framework-CoreMotion==7.1; platform_release >= \"19.0\" in /opt/anaconda3/lib/python3.8/site-packages (from pyobjc>=2.4; platform_system == \"Darwin\"->pyttsx3) (7.1)\n",
      "Requirement already satisfied: pyobjc-framework-PencilKit==7.1; platform_release >= \"19.0\" in /opt/anaconda3/lib/python3.8/site-packages (from pyobjc>=2.4; platform_system == \"Darwin\"->pyttsx3) (7.1)\n",
      "Requirement already satisfied: pyobjc-framework-SystemExtensions==7.1; platform_release >= \"19.0\" in /opt/anaconda3/lib/python3.8/site-packages (from pyobjc>=2.4; platform_system == \"Darwin\"->pyttsx3) (7.1)\n",
      "Requirement already satisfied: pyobjc-framework-CalendarStore==7.1; platform_release >= \"9.0\" in /opt/anaconda3/lib/python3.8/site-packages (from pyobjc>=2.4; platform_system == \"Darwin\"->pyttsx3) (7.1)\n",
      "Requirement already satisfied: pyobjc-framework-InstallerPlugins==7.1 in /opt/anaconda3/lib/python3.8/site-packages (from pyobjc>=2.4; platform_system == \"Darwin\"->pyttsx3) (7.1)\n",
      "Requirement already satisfied: pyobjc-framework-CoreText==7.1 in /opt/anaconda3/lib/python3.8/site-packages (from pyobjc>=2.4; platform_system == \"Darwin\"->pyttsx3) (7.1)\n",
      "Requirement already satisfied: pyobjc-framework-LatentSemanticMapping==7.1 in /opt/anaconda3/lib/python3.8/site-packages (from pyobjc>=2.4; platform_system == \"Darwin\"->pyttsx3) (7.1)\n",
      "Requirement already satisfied: pyobjc-framework-Accounts==7.1; platform_release >= \"12.0\" in /opt/anaconda3/lib/python3.8/site-packages (from pyobjc>=2.4; platform_system == \"Darwin\"->pyttsx3) (7.1)\n",
      "Requirement already satisfied: pyobjc-framework-CryptoTokenKit==7.1; platform_release >= \"14.0\" in /opt/anaconda3/lib/python3.8/site-packages (from pyobjc>=2.4; platform_system == \"Darwin\"->pyttsx3) (7.1)\n",
      "Requirement already satisfied: pyobjc-framework-PushKit==7.1; platform_release >= \"19.0\" in /opt/anaconda3/lib/python3.8/site-packages (from pyobjc>=2.4; platform_system == \"Darwin\"->pyttsx3) (7.1)\n",
      "Requirement already satisfied: pyobjc-framework-SecurityInterface==7.1 in /opt/anaconda3/lib/python3.8/site-packages (from pyobjc>=2.4; platform_system == \"Darwin\"->pyttsx3) (7.1)\n",
      "Requirement already satisfied: pyobjc-framework-ContactsUI==7.1; platform_release >= \"15.0\" in /opt/anaconda3/lib/python3.8/site-packages (from pyobjc>=2.4; platform_system == \"Darwin\"->pyttsx3) (7.1)\n",
      "Requirement already satisfied: pyobjc-framework-ExternalAccessory==7.1; platform_release >= \"17.0\" in /opt/anaconda3/lib/python3.8/site-packages (from pyobjc>=2.4; platform_system == \"Darwin\"->pyttsx3) (7.1)\n",
      "Requirement already satisfied: pyobjc-framework-MediaAccessibility==7.1; platform_release >= \"13.0\" in /opt/anaconda3/lib/python3.8/site-packages (from pyobjc>=2.4; platform_system == \"Darwin\"->pyttsx3) (7.1)\n",
      "Requirement already satisfied: pyobjc-framework-Automator==7.1 in /opt/anaconda3/lib/python3.8/site-packages (from pyobjc>=2.4; platform_system == \"Darwin\"->pyttsx3) (7.1)\n",
      "Requirement already satisfied: pyobjc-framework-CoreMediaIO==7.1; platform_release >= \"11.0\" in /opt/anaconda3/lib/python3.8/site-packages (from pyobjc>=2.4; platform_system == \"Darwin\"->pyttsx3) (7.1)\n",
      "Requirement already satisfied: pyobjc-framework-VideoToolbox==7.1; platform_release >= \"12.0\" in /opt/anaconda3/lib/python3.8/site-packages (from pyobjc>=2.4; platform_system == \"Darwin\"->pyttsx3) (7.1)\n",
      "Requirement already satisfied: pyobjc-framework-CoreData==7.1 in /opt/anaconda3/lib/python3.8/site-packages (from pyobjc>=2.4; platform_system == \"Darwin\"->pyttsx3) (7.1)\n",
      "Requirement already satisfied: pyobjc-framework-ServiceManagement==7.1; platform_release >= \"10.0\" in /opt/anaconda3/lib/python3.8/site-packages (from pyobjc>=2.4; platform_system == \"Darwin\"->pyttsx3) (7.1)\n",
      "Requirement already satisfied: pyobjc-framework-IMServicePlugIn==7.1; platform_release >= \"11.0\" in /opt/anaconda3/lib/python3.8/site-packages (from pyobjc>=2.4; platform_system == \"Darwin\"->pyttsx3) (7.1)\n",
      "Requirement already satisfied: pyobjc-framework-GameKit==7.1; platform_release >= \"12.0\" in /opt/anaconda3/lib/python3.8/site-packages (from pyobjc>=2.4; platform_system == \"Darwin\"->pyttsx3) (7.1)\n",
      "Requirement already satisfied: pyobjc-framework-ImageCaptureCore==7.1; platform_release >= \"10.0\" in /opt/anaconda3/lib/python3.8/site-packages (from pyobjc>=2.4; platform_system == \"Darwin\"->pyttsx3) (7.1)\n",
      "Requirement already satisfied: pyobjc-framework-MapKit==7.1; platform_release >= \"13.0\" in /opt/anaconda3/lib/python3.8/site-packages (from pyobjc>=2.4; platform_system == \"Darwin\"->pyttsx3) (7.1)\n",
      "Requirement already satisfied: pyobjc-framework-FileProvider==7.1; platform_release >= \"19.0\" in /opt/anaconda3/lib/python3.8/site-packages (from pyobjc>=2.4; platform_system == \"Darwin\"->pyttsx3) (7.1)\n",
      "Requirement already satisfied: pyobjc-framework-AddressBook==7.1 in /opt/anaconda3/lib/python3.8/site-packages (from pyobjc>=2.4; platform_system == \"Darwin\"->pyttsx3) (7.1)\n"
     ]
    },
    {
     "name": "stdout",
     "output_type": "stream",
     "text": [
      "Requirement already satisfied: pyobjc-framework-StoreKit==7.1; platform_release >= \"11.0\" in /opt/anaconda3/lib/python3.8/site-packages (from pyobjc>=2.4; platform_system == \"Darwin\"->pyttsx3) (7.1)\n",
      "Requirement already satisfied: pyobjc-framework-ApplicationServices==7.1 in /opt/anaconda3/lib/python3.8/site-packages (from pyobjc>=2.4; platform_system == \"Darwin\"->pyttsx3) (7.1)\n",
      "Requirement already satisfied: pyobjc-framework-CoreHaptics==7.1; platform_release >= \"19.0\" in /opt/anaconda3/lib/python3.8/site-packages (from pyobjc>=2.4; platform_system == \"Darwin\"->pyttsx3) (7.1)\n",
      "Requirement already satisfied: pyobjc-core==7.1 in /opt/anaconda3/lib/python3.8/site-packages (from pyobjc>=2.4; platform_system == \"Darwin\"->pyttsx3) (7.1)\n",
      "Requirement already satisfied: pyobjc-framework-SceneKit==7.1; platform_release >= \"11.0\" in /opt/anaconda3/lib/python3.8/site-packages (from pyobjc>=2.4; platform_system == \"Darwin\"->pyttsx3) (7.1)\n",
      "Requirement already satisfied: pyobjc-framework-CoreSpotlight==7.1; platform_release >= \"17.0\" in /opt/anaconda3/lib/python3.8/site-packages (from pyobjc>=2.4; platform_system == \"Darwin\"->pyttsx3) (7.1)\n",
      "Requirement already satisfied: pyobjc-framework-DiskArbitration==7.1 in /opt/anaconda3/lib/python3.8/site-packages (from pyobjc>=2.4; platform_system == \"Darwin\"->pyttsx3) (7.1)\n",
      "Requirement already satisfied: pyobjc-framework-CoreMedia==7.1; platform_release >= \"11.0\" in /opt/anaconda3/lib/python3.8/site-packages (from pyobjc>=2.4; platform_system == \"Darwin\"->pyttsx3) (7.1)\n",
      "Requirement already satisfied: pyobjc-framework-AutomaticAssessmentConfiguration==7.1; platform_release >= \"19.0\" in /opt/anaconda3/lib/python3.8/site-packages (from pyobjc>=2.4; platform_system == \"Darwin\"->pyttsx3) (7.1)\n",
      "Requirement already satisfied: pyobjc-framework-MediaLibrary==7.1; platform_release >= \"13.0\" in /opt/anaconda3/lib/python3.8/site-packages (from pyobjc>=2.4; platform_system == \"Darwin\"->pyttsx3) (7.1)\n",
      "Requirement already satisfied: pyobjc-framework-SoundAnalysis==7.1; platform_release >= \"19.0\" in /opt/anaconda3/lib/python3.8/site-packages (from pyobjc>=2.4; platform_system == \"Darwin\"->pyttsx3) (7.1)\n",
      "Requirement already satisfied: pyobjc-framework-SpriteKit==7.1; platform_release >= \"13.0\" in /opt/anaconda3/lib/python3.8/site-packages (from pyobjc>=2.4; platform_system == \"Darwin\"->pyttsx3) (7.1)\n",
      "Requirement already satisfied: pyobjc-framework-MultipeerConnectivity==7.1; platform_release >= \"14.0\" in /opt/anaconda3/lib/python3.8/site-packages (from pyobjc>=2.4; platform_system == \"Darwin\"->pyttsx3) (7.1)\n",
      "Requirement already satisfied: pyobjc-framework-DeviceCheck==7.1; platform_release >= \"19.0\" in /opt/anaconda3/lib/python3.8/site-packages (from pyobjc>=2.4; platform_system == \"Darwin\"->pyttsx3) (7.1)\n",
      "Requirement already satisfied: pyobjc-framework-SyncServices==7.1 in /opt/anaconda3/lib/python3.8/site-packages (from pyobjc>=2.4; platform_system == \"Darwin\"->pyttsx3) (7.1)\n",
      "Requirement already satisfied: pyobjc-framework-CFNetwork==7.1 in /opt/anaconda3/lib/python3.8/site-packages (from pyobjc>=2.4; platform_system == \"Darwin\"->pyttsx3) (7.1)\n",
      "Requirement already satisfied: pyobjc-framework-FileProviderUI==7.1; platform_release >= \"19.0\" in /opt/anaconda3/lib/python3.8/site-packages (from pyobjc>=2.4; platform_system == \"Darwin\"->pyttsx3) (7.1)\n",
      "Requirement already satisfied: pyobjc-framework-Security==7.1 in /opt/anaconda3/lib/python3.8/site-packages (from pyobjc>=2.4; platform_system == \"Darwin\"->pyttsx3) (7.1)\n",
      "Requirement already satisfied: pyobjc-framework-AppleScriptObjC==7.1; platform_release >= \"10.0\" in /opt/anaconda3/lib/python3.8/site-packages (from pyobjc>=2.4; platform_system == \"Darwin\"->pyttsx3) (7.1)\n",
      "Requirement already satisfied: pyobjc-framework-CoreLocation==7.1; platform_release >= \"10.0\" in /opt/anaconda3/lib/python3.8/site-packages (from pyobjc>=2.4; platform_system == \"Darwin\"->pyttsx3) (7.1)\n",
      "Requirement already satisfied: pyobjc-framework-AdSupport==7.1; platform_release >= \"18.0\" in /opt/anaconda3/lib/python3.8/site-packages (from pyobjc>=2.4; platform_system == \"Darwin\"->pyttsx3) (7.1)\n",
      "Requirement already satisfied: pyobjc-framework-CloudKit==7.1; platform_release >= \"14.0\" in /opt/anaconda3/lib/python3.8/site-packages (from pyobjc>=2.4; platform_system == \"Darwin\"->pyttsx3) (7.1)\n",
      "Requirement already satisfied: pyobjc-framework-InstantMessage==7.1; platform_release >= \"9.0\" in /opt/anaconda3/lib/python3.8/site-packages (from pyobjc>=2.4; platform_system == \"Darwin\"->pyttsx3) (7.1)\n",
      "Requirement already satisfied: pyobjc-framework-UserNotifications==7.1; platform_release >= \"18.0\" in /opt/anaconda3/lib/python3.8/site-packages (from pyobjc>=2.4; platform_system == \"Darwin\"->pyttsx3) (7.1)\n",
      "Requirement already satisfied: pyobjc-framework-ExceptionHandling==7.1 in /opt/anaconda3/lib/python3.8/site-packages (from pyobjc>=2.4; platform_system == \"Darwin\"->pyttsx3) (7.1)\n",
      "Requirement already satisfied: pyobjc-framework-OpenDirectory==7.1; platform_release >= \"10.0\" in /opt/anaconda3/lib/python3.8/site-packages (from pyobjc>=2.4; platform_system == \"Darwin\"->pyttsx3) (7.1)\n",
      "Requirement already satisfied: pyobjc-framework-CoreBluetooth==7.1; platform_release >= \"14.0\" in /opt/anaconda3/lib/python3.8/site-packages (from pyobjc>=2.4; platform_system == \"Darwin\"->pyttsx3) (7.1)\n",
      "Requirement already satisfied: pyobjc-framework-CoreAudio==7.1 in /opt/anaconda3/lib/python3.8/site-packages (from pyobjc>=2.4; platform_system == \"Darwin\"->pyttsx3) (7.1)\n",
      "Requirement already satisfied: pyobjc-framework-MediaToolbox==7.1; platform_release >= \"13.0\" in /opt/anaconda3/lib/python3.8/site-packages (from pyobjc>=2.4; platform_system == \"Darwin\"->pyttsx3) (7.1)\n",
      "Requirement already satisfied: pyobjc-framework-CoreML==7.1; platform_release >= \"17.0\" in /opt/anaconda3/lib/python3.8/site-packages (from pyobjc>=2.4; platform_system == \"Darwin\"->pyttsx3) (7.1)\n",
      "Requirement already satisfied: pyobjc-framework-CoreMIDI==7.1 in /opt/anaconda3/lib/python3.8/site-packages (from pyobjc>=2.4; platform_system == \"Darwin\"->pyttsx3) (7.1)\n",
      "Requirement already satisfied: pyobjc-framework-NetFS==7.1; platform_release >= \"10.0\" in /opt/anaconda3/lib/python3.8/site-packages (from pyobjc>=2.4; platform_system == \"Darwin\"->pyttsx3) (7.1)\n",
      "Requirement already satisfied: pyobjc-framework-LaunchServices==7.1 in /opt/anaconda3/lib/python3.8/site-packages (from pyobjc>=2.4; platform_system == \"Darwin\"->pyttsx3) (7.1)\n",
      "Requirement already satisfied: pyobjc-framework-LinkPresentation==7.1; platform_release >= \"19.0\" in /opt/anaconda3/lib/python3.8/site-packages (from pyobjc>=2.4; platform_system == \"Darwin\"->pyttsx3) (7.1)\n",
      "Requirement already satisfied: pyobjc-framework-AppleScriptKit==7.1 in /opt/anaconda3/lib/python3.8/site-packages (from pyobjc>=2.4; platform_system == \"Darwin\"->pyttsx3) (7.1)\n",
      "Requirement already satisfied: pyobjc-framework-DVDPlayback==7.1 in /opt/anaconda3/lib/python3.8/site-packages (from pyobjc>=2.4; platform_system == \"Darwin\"->pyttsx3) (7.1)\n",
      "Requirement already satisfied: pyobjc-framework-QuickLookThumbnailing==7.1; platform_release >= \"19.0\" in /opt/anaconda3/lib/python3.8/site-packages (from pyobjc>=2.4; platform_system == \"Darwin\"->pyttsx3) (7.1)\n",
      "Requirement already satisfied: pyobjc-framework-DictionaryServices==7.1; platform_release >= \"9.0\" in /opt/anaconda3/lib/python3.8/site-packages (from pyobjc>=2.4; platform_system == \"Darwin\"->pyttsx3) (7.1)\n",
      "Requirement already satisfied: pyobjc-framework-SystemConfiguration==7.1 in /opt/anaconda3/lib/python3.8/site-packages (from pyobjc>=2.4; platform_system == \"Darwin\"->pyttsx3) (7.1)\n",
      "Requirement already satisfied: pyobjc-framework-Quartz==7.1 in /opt/anaconda3/lib/python3.8/site-packages (from pyobjc>=2.4; platform_system == \"Darwin\"->pyttsx3) (7.1)\n",
      "Requirement already satisfied: pyobjc-framework-BusinessChat==7.1; platform_release >= \"18.0\" in /opt/anaconda3/lib/python3.8/site-packages (from pyobjc>=2.4; platform_system == \"Darwin\"->pyttsx3) (7.1)\n",
      "Requirement already satisfied: pyobjc-framework-NaturalLanguage==7.1; platform_release >= \"18.0\" in /opt/anaconda3/lib/python3.8/site-packages (from pyobjc>=2.4; platform_system == \"Darwin\"->pyttsx3) (7.1)\n",
      "Requirement already satisfied: pyobjc-framework-Cocoa==7.1 in /opt/anaconda3/lib/python3.8/site-packages (from pyobjc>=2.4; platform_system == \"Darwin\"->pyttsx3) (7.1)\n",
      "Requirement already satisfied: pyobjc-framework-ScreenSaver==7.1 in /opt/anaconda3/lib/python3.8/site-packages (from pyobjc>=2.4; platform_system == \"Darwin\"->pyttsx3) (7.1)\n",
      "Requirement already satisfied: pyobjc-framework-Vision==7.1; platform_release >= \"17.0\" in /opt/anaconda3/lib/python3.8/site-packages (from pyobjc>=2.4; platform_system == \"Darwin\"->pyttsx3) (7.1)\n",
      "Requirement already satisfied: pyobjc-framework-SecurityFoundation==7.1 in /opt/anaconda3/lib/python3.8/site-packages (from pyobjc>=2.4; platform_system == \"Darwin\"->pyttsx3) (7.1)\n",
      "Requirement already satisfied: pyobjc-framework-PhotosUI==7.1; platform_release >= \"15.0\" in /opt/anaconda3/lib/python3.8/site-packages (from pyobjc>=2.4; platform_system == \"Darwin\"->pyttsx3) (7.1)\n"
     ]
    },
    {
     "name": "stdout",
     "output_type": "stream",
     "text": [
      "Requirement already satisfied: pyobjc-framework-GameCenter==7.1; platform_release >= \"12.0\" in /opt/anaconda3/lib/python3.8/site-packages (from pyobjc>=2.4; platform_system == \"Darwin\"->pyttsx3) (7.1)\n",
      "Requirement already satisfied: pyobjc-framework-MetalPerformanceShaders==7.1; platform_release >= \"17.0\" in /opt/anaconda3/lib/python3.8/site-packages (from pyobjc>=2.4; platform_system == \"Darwin\"->pyttsx3) (7.1)\n",
      "Requirement already satisfied: pyobjc-framework-iTunesLibrary==7.1; platform_release >= \"10.0\" in /opt/anaconda3/lib/python3.8/site-packages (from pyobjc>=2.4; platform_system == \"Darwin\"->pyttsx3) (7.1)\n",
      "Requirement already satisfied: pyobjc-framework-SearchKit==7.1 in /opt/anaconda3/lib/python3.8/site-packages (from pyobjc>=2.4; platform_system == \"Darwin\"->pyttsx3) (7.1)\n",
      "Requirement already satisfied: pyobjc-framework-libdispatch==7.1; platform_release >= \"12.0\" in /opt/anaconda3/lib/python3.8/site-packages (from pyobjc>=2.4; platform_system == \"Darwin\"->pyttsx3) (7.1)\n",
      "Requirement already satisfied: pyobjc-framework-Network==7.1; platform_release >= \"18.0\" in /opt/anaconda3/lib/python3.8/site-packages (from pyobjc>=2.4; platform_system == \"Darwin\"->pyttsx3) (7.1)\n",
      "Requirement already satisfied: pyobjc-framework-VideoSubscriberAccount==7.1; platform_release >= \"18.0\" in /opt/anaconda3/lib/python3.8/site-packages (from pyobjc>=2.4; platform_system == \"Darwin\"->pyttsx3) (7.1)\n",
      "Requirement already satisfied: pyobjc-framework-ExecutionPolicy==7.1; platform_release >= \"19.0\" in /opt/anaconda3/lib/python3.8/site-packages (from pyobjc>=2.4; platform_system == \"Darwin\"->pyttsx3) (7.1)\n",
      "Requirement already satisfied: pyobjc-framework-EventKit==7.1; platform_release >= \"12.0\" in /opt/anaconda3/lib/python3.8/site-packages (from pyobjc>=2.4; platform_system == \"Darwin\"->pyttsx3) (7.1)\n",
      "Requirement already satisfied: pyobjc-framework-AVKit==7.1; platform_release >= \"13.0\" in /opt/anaconda3/lib/python3.8/site-packages (from pyobjc>=2.4; platform_system == \"Darwin\"->pyttsx3) (7.1)\n",
      "Requirement already satisfied: pyobjc-framework-DiscRecording==7.1 in /opt/anaconda3/lib/python3.8/site-packages (from pyobjc>=2.4; platform_system == \"Darwin\"->pyttsx3) (7.1)\n",
      "Requirement already satisfied: pyobjc-framework-Social==7.1; platform_release >= \"12.0\" in /opt/anaconda3/lib/python3.8/site-packages (from pyobjc>=2.4; platform_system == \"Darwin\"->pyttsx3) (7.1)\n",
      "Requirement already satisfied: pyobjc-framework-ColorSync==7.1; platform_release >= \"17.0\" in /opt/anaconda3/lib/python3.8/site-packages (from pyobjc>=2.4; platform_system == \"Darwin\"->pyttsx3) (7.1)\n",
      "Requirement already satisfied: pyobjc-framework-ScriptingBridge==7.1; platform_release >= \"9.0\" in /opt/anaconda3/lib/python3.8/site-packages (from pyobjc>=2.4; platform_system == \"Darwin\"->pyttsx3) (7.1)\n",
      "Requirement already satisfied: pyobjc-framework-CoreWLAN==7.1; platform_release >= \"10.0\" in /opt/anaconda3/lib/python3.8/site-packages (from pyobjc>=2.4; platform_system == \"Darwin\"->pyttsx3) (7.1)\n",
      "Requirement already satisfied: pyobjc-framework-AVFoundation==7.1; platform_release >= \"11.0\" in /opt/anaconda3/lib/python3.8/site-packages (from pyobjc>=2.4; platform_system == \"Darwin\"->pyttsx3) (7.1)\n",
      "Requirement already satisfied: pyobjc-framework-MetalKit==7.1; platform_release >= \"15.0\" in /opt/anaconda3/lib/python3.8/site-packages (from pyobjc>=2.4; platform_system == \"Darwin\"->pyttsx3) (7.1)\n",
      "Requirement already satisfied: pyobjc-framework-FinderSync==7.1; platform_release >= \"14.0\" in /opt/anaconda3/lib/python3.8/site-packages (from pyobjc>=2.4; platform_system == \"Darwin\"->pyttsx3) (7.1)\n",
      "Requirement already satisfied: pyobjc-framework-LocalAuthentication==7.1; platform_release >= \"14.0\" in /opt/anaconda3/lib/python3.8/site-packages (from pyobjc>=2.4; platform_system == \"Darwin\"->pyttsx3) (7.1)\n",
      "Requirement already satisfied: pyobjc-framework-NetworkExtension==7.1; platform_release >= \"15.0\" in /opt/anaconda3/lib/python3.8/site-packages (from pyobjc>=2.4; platform_system == \"Darwin\"->pyttsx3) (7.1)\n",
      "Requirement already satisfied: pyobjc-framework-GameplayKit==7.1; platform_release >= \"15.0\" in /opt/anaconda3/lib/python3.8/site-packages (from pyobjc>=2.4; platform_system == \"Darwin\"->pyttsx3) (7.1)\n",
      "Requirement already satisfied: pyobjc-framework-Contacts==7.1; platform_release >= \"15.0\" in /opt/anaconda3/lib/python3.8/site-packages (from pyobjc>=2.4; platform_system == \"Darwin\"->pyttsx3) (7.1)\n",
      "Requirement already satisfied: pyobjc-framework-OSLog==7.1; platform_release >= \"19.0\" in /opt/anaconda3/lib/python3.8/site-packages (from pyobjc>=2.4; platform_system == \"Darwin\"->pyttsx3) (7.1)\n",
      "Requirement already satisfied: pyobjc-framework-DiscRecordingUI==7.1 in /opt/anaconda3/lib/python3.8/site-packages (from pyobjc>=2.4; platform_system == \"Darwin\"->pyttsx3) (7.1)\n",
      "Requirement already satisfied: pyobjc-framework-InputMethodKit==7.1; platform_release >= \"9.0\" in /opt/anaconda3/lib/python3.8/site-packages (from pyobjc>=2.4; platform_system == \"Darwin\"->pyttsx3) (7.1)\n",
      "Requirement already satisfied: pyobjc-framework-Photos==7.1; platform_release >= \"15.0\" in /opt/anaconda3/lib/python3.8/site-packages (from pyobjc>=2.4; platform_system == \"Darwin\"->pyttsx3) (7.1)\n",
      "Requirement already satisfied: pyobjc-framework-Speech==7.1; platform_release >= \"19.0\" in /opt/anaconda3/lib/python3.8/site-packages (from pyobjc>=2.4; platform_system == \"Darwin\"->pyttsx3) (7.1)\n",
      "Note: you may need to restart the kernel to use updated packages.\n"
     ]
    }
   ],
   "source": [
    "pip install pyttsx3"
   ]
  },
  {
   "cell_type": "code",
   "execution_count": 30,
   "metadata": {},
   "outputs": [
    {
     "name": "stdout",
     "output_type": "stream",
     "text": [
      "Requirement already satisfied: SpeechRecognition in /opt/anaconda3/lib/python3.8/site-packages (3.8.1)\n",
      "Note: you may need to restart the kernel to use updated packages.\n"
     ]
    }
   ],
   "source": [
    "pip install SpeechRecognition"
   ]
  },
  {
   "cell_type": "code",
   "execution_count": 31,
   "metadata": {},
   "outputs": [
    {
     "name": "stdout",
     "output_type": "stream",
     "text": [
      "Collecting package metadata (current_repodata.json): done\n",
      "Solving environment: failed with initial frozen solve. Retrying with flexible solve.\n",
      "Collecting package metadata (repodata.json): done\n",
      "Solving environment: failed with initial frozen solve. Retrying with flexible solve.\n",
      "\n",
      "PackagesNotFoundError: The following packages are not available from current channels:\n",
      "\n",
      "  - webbrowser\n",
      "\n",
      "Current channels:\n",
      "\n",
      "  - https://repo.anaconda.com/pkgs/main/osx-64\n",
      "  - https://repo.anaconda.com/pkgs/main/noarch\n",
      "  - https://repo.anaconda.com/pkgs/r/osx-64\n",
      "  - https://repo.anaconda.com/pkgs/r/noarch\n",
      "\n",
      "To search for alternate channels that may provide the conda package you're\n",
      "looking for, navigate to\n",
      "\n",
      "    https://anaconda.org\n",
      "\n",
      "and use the search bar at the top of the page.\n",
      "\n",
      "\n",
      "\n",
      "Note: you may need to restart the kernel to use updated packages.\n"
     ]
    }
   ],
   "source": [
    "conda install webbrowser "
   ]
  },
  {
   "cell_type": "code",
   "execution_count": 32,
   "metadata": {},
   "outputs": [],
   "source": [
    "import webbrowser"
   ]
  },
  {
   "cell_type": "code",
   "execution_count": 33,
   "metadata": {},
   "outputs": [
    {
     "name": "stdout",
     "output_type": "stream",
     "text": [
      "Requirement already satisfied: wikipedia in /opt/anaconda3/lib/python3.8/site-packages (1.4.0)\n",
      "Requirement already satisfied: beautifulsoup4 in /opt/anaconda3/lib/python3.8/site-packages (from wikipedia) (4.9.3)\n",
      "Requirement already satisfied: requests<3.0.0,>=2.0.0 in /opt/anaconda3/lib/python3.8/site-packages (from wikipedia) (2.24.0)\n",
      "Requirement already satisfied: soupsieve>1.2; python_version >= \"3.0\" in /opt/anaconda3/lib/python3.8/site-packages (from beautifulsoup4->wikipedia) (2.0.1)\n",
      "Requirement already satisfied: urllib3!=1.25.0,!=1.25.1,<1.26,>=1.21.1 in /opt/anaconda3/lib/python3.8/site-packages (from requests<3.0.0,>=2.0.0->wikipedia) (1.25.11)\n",
      "Requirement already satisfied: chardet<4,>=3.0.2 in /opt/anaconda3/lib/python3.8/site-packages (from requests<3.0.0,>=2.0.0->wikipedia) (3.0.4)\n",
      "Requirement already satisfied: idna<3,>=2.5 in /opt/anaconda3/lib/python3.8/site-packages (from requests<3.0.0,>=2.0.0->wikipedia) (2.10)\n",
      "Requirement already satisfied: certifi>=2017.4.17 in /opt/anaconda3/lib/python3.8/site-packages (from requests<3.0.0,>=2.0.0->wikipedia) (2020.6.20)\n",
      "Note: you may need to restart the kernel to use updated packages.\n"
     ]
    }
   ],
   "source": [
    "pip install wikipedia\n"
   ]
  },
  {
   "cell_type": "code",
   "execution_count": 9,
   "metadata": {},
   "outputs": [
    {
     "name": "stdout",
     "output_type": "stream",
     "text": [
      "Collecting package metadata (current_repodata.json): done\n",
      "Solving environment: done\n",
      "\n",
      "# All requested packages already installed.\n",
      "\n",
      "\n",
      "Note: you may need to restart the kernel to use updated packages.\n"
     ]
    }
   ],
   "source": [
    "conda install pyaudio"
   ]
  },
  {
   "cell_type": "code",
   "execution_count": 10,
   "metadata": {},
   "outputs": [],
   "source": [
    "import pyttsx3 \n",
    "import speech_recognition as sr \n",
    "import webbrowser   \n",
    "import datetime   \n",
    "import wikipedia  "
   ]
  },
  {
   "cell_type": "code",
   "execution_count": 11,
   "metadata": {},
   "outputs": [],
   "source": [
    "\n",
    "# this method is for taking the commands \n",
    "# and recognizing the command from the \n",
    "# speech_Recognition module we will use \n",
    "# the recongizer method for recognizing \n",
    "def takeCommand(): \n",
    "  \n",
    "    r = sr.Recognizer() \n",
    "  \n",
    "    # from the speech_Recognition module  \n",
    "    # we will use the Microphone module \n",
    "    # for listening the command \n",
    "    with sr.Microphone() as source: \n",
    "        print('Listening') \n",
    "          \n",
    "        # seconds of non-speaking audio before  \n",
    "        # a phrase is considered complete \n",
    "        r.pause_threshold = 0.7\n",
    "        audio = r.listen(source) \n",
    "          \n",
    "        # Now we will be using the try and catch \n",
    "        # method so that if sound is recognized  \n",
    "        # it is good else we will have exception  \n",
    "        # handling \n",
    "        try: \n",
    "            print(\"Recognizing\") \n",
    "              \n",
    "            # for Listening the command in indian \n",
    "            # english we can also use 'hi-In'  \n",
    "            # for hindi recognizing \n",
    "            Query = r.recognize_google(audio, language='en-in') \n",
    "            print(\"the command is printed=\", Query) \n",
    "              \n",
    "        except Exception as e: \n",
    "            print(e) \n",
    "            print(\"Say that again please\") \n",
    "            return \"None\"\n",
    "          \n",
    "        return Query "
   ]
  },
  {
   "cell_type": "code",
   "execution_count": 12,
   "metadata": {},
   "outputs": [],
   "source": [
    "def speak(audio): \n",
    "      \n",
    "    engine = pyttsx3.init() \n",
    "    # getter method(gets the current value \n",
    "    # of engine property) \n",
    "    voices = engine.getProperty('voices') \n",
    "      \n",
    "    # setter method .[0]=male voice and  \n",
    "    # [1]=female voice in set Property. \n",
    "    engine.setProperty('voice', voices[0].id) \n",
    "      \n",
    "    # Method for the speaking of the the assistant \n",
    "    engine.say(audio)   \n",
    "      \n",
    "    # Blocks while processing all the currently \n",
    "    # queued commands \n",
    "    engine.runAndWait() \n",
    "  "
   ]
  },
  {
   "cell_type": "code",
   "execution_count": 13,
   "metadata": {},
   "outputs": [],
   "source": [
    "def tellDay(): \n",
    "      \n",
    "    # This function is for telling the \n",
    "    # day of the week \n",
    "    day = datetime.datetime.today().weekday() + 1\n",
    "      \n",
    "    #this line tells us about the number  \n",
    "    # that will help us in telling the day \n",
    "    Day_dict = {1: 'Monday', 2: 'Tuesday',  \n",
    "                3: 'Wednesday', 4: 'Thursday',  \n",
    "                5: 'Friday', 6: 'Saturday', \n",
    "                7: 'Sunday'} \n",
    "      \n",
    "    if day in Day_dict.keys(): \n",
    "        day_of_the_week = Day_dict[day] \n",
    "        print(day_of_the_week) \n",
    "        speak(\"The day is \" + day_of_the_week) \n",
    "  "
   ]
  },
  {
   "cell_type": "code",
   "execution_count": 14,
   "metadata": {},
   "outputs": [],
   "source": [
    "def tellTime(): \n",
    "      \n",
    "    # This method will give the time \n",
    "    time = str(datetime.datetime.now()) \n",
    "      \n",
    "    # the time will be displayed like  \n",
    "    # this \"2020-06-05 17:50:14.582630\" \n",
    "    #nd then after slicing we can get time \n",
    "    print(time) \n",
    "    hour = time[11:13] \n",
    "    min = time[14:16] \n",
    "    speak(\"The time is\" + hour + \"Hours and\" + min + \"Minutes\")     "
   ]
  },
  {
   "cell_type": "code",
   "execution_count": 15,
   "metadata": {},
   "outputs": [],
   "source": [
    "def Hello(): \n",
    "      \n",
    "    # This function is for when the assistant  \n",
    "    # is called it will say hello and then  \n",
    "    # take query \n",
    "    name = \"Atif\"\n",
    "    speak(\"Hello\" + name +\".I am your desktop assistant. Tell me how may I help you\") \n",
    "  "
   ]
  },
  {
   "cell_type": "code",
   "execution_count": null,
   "metadata": {},
   "outputs": [],
   "source": [
    "def Take_query(): \n",
    "  \n",
    "    # calling the Hello function for  \n",
    "    # making it more interactive \n",
    "    Hello() \n",
    "      \n",
    "    # This loop is infinite as it will take \n",
    "    # our queries continuously until and unless \n",
    "    # we do not say bye to exit or terminate  \n",
    "    # the program \n",
    "    while(True): \n",
    "          \n",
    "        # taking the query and making it into \n",
    "        # lower case so that most of the times  \n",
    "        # query matches and we get the perfect  \n",
    "        # output \n",
    "        query = takeCommand().lower() \n",
    "        \n",
    "        if \"open google\" in query: \n",
    "            speak(\"Opening Google \") \n",
    "            url = 'https://' + 'www.google.com'\n",
    "            webbrowser.open(url, new = 2) \n",
    "            continue\n",
    "              \n",
    "        elif \"which day it is\" in query: \n",
    "            tellDay() \n",
    "            continue\n",
    "          \n",
    "        elif \"tell me the time\" in query: \n",
    "            tellTime() \n",
    "            continue\n",
    "          \n",
    "        # this will exit and terminate the program \n",
    "        elif \"bye\" in query: \n",
    "            speak(\"see you later.\") \n",
    "            exit() \n",
    "          \n",
    "        elif \"from wikipedia\" in query: \n",
    "              \n",
    "            # if any one wants to have a information \n",
    "            # from wikipedia \n",
    "            speak(\"Checking the wikipedia \") \n",
    "            query = query.replace(\"wikipedia\", \"\") \n",
    "              \n",
    "            # it will give the summary of 4 lines from  \n",
    "            # wikipedia we can increase and decrease  \n",
    "            # it also. \n",
    "            result = wikipedia.summary(query, sentences=4) \n",
    "            speak(\"According to wikipedia\") \n",
    "            speak(result) \n",
    "          \n",
    "        elif \"tell me your name\" in query: \n",
    "            speak(\"I am Jarvis. Your personal Assistant\") \n",
    "  \n",
    "if __name__ == '__main__': \n",
    "      \n",
    "    # main method for executing \n",
    "    # the functions \n",
    "    Take_query()"
   ]
  },
  {
   "cell_type": "code",
   "execution_count": null,
   "metadata": {},
   "outputs": [],
   "source": [
    "# Face Recognition not complete "
   ]
  },
  {
   "cell_type": "code",
   "execution_count": null,
   "metadata": {},
   "outputs": [],
   "source": [
    "pip install Pillow\n",
    "pip install face-recognition\n",
    "import NumPy as np"
   ]
  },
  {
   "cell_type": "code",
   "execution_count": null,
   "metadata": {},
   "outputs": [],
   "source": [
    "import PIL.Image\n",
    "import PIL.ImageDraw\n",
    "import face_recognition"
   ]
  },
  {
   "cell_type": "code",
   "execution_count": null,
   "metadata": {},
   "outputs": [],
   "source": [
    "given_image = face_recognition.load_image_file('/Users/atifsiddiqui/Documents/Spring_2021/EECS_649/JArvis/download.jpeg')"
   ]
  },
  {
   "cell_type": "code",
   "execution_count": null,
   "metadata": {},
   "outputs": [],
   "source": [
    "face_locations = face_recognition.face_locations(given_image)\n",
    "number_of_faces = len(face_locations)\n",
    "print(\"We found {} face(s) in this image.\".format(number_of_faces))\n"
   ]
  },
  {
   "cell_type": "code",
   "execution_count": null,
   "metadata": {},
   "outputs": [],
   "source": [
    "pil_image = PIL.Image.fromarray(given_image)"
   ]
  },
  {
   "cell_type": "code",
   "execution_count": null,
   "metadata": {},
   "outputs": [],
   "source": [
    "for face_location in face_locations:\n",
    "    top, left, bottom, right = face_location\n",
    "    print(\"A face is detected at pixel location Top: {}, Left: {}, Bottom: {}, Right: {}\".format(top, left, bottom, right))"
   ]
  },
  {
   "cell_type": "code",
   "execution_count": null,
   "metadata": {},
   "outputs": [],
   "source": [
    "draw = PIL.ImageDraw.Draw(pil_image)\n",
    "draw.rectangle([left, top, right, bottom], outline=\"green\", width=10)"
   ]
  },
  {
   "cell_type": "code",
   "execution_count": null,
   "metadata": {},
   "outputs": [],
   "source": [
    "pil_image.show()"
   ]
  },
  {
   "cell_type": "code",
   "execution_count": null,
   "metadata": {},
   "outputs": [],
   "source": []
  },
  {
   "cell_type": "code",
   "execution_count": null,
   "metadata": {},
   "outputs": [],
   "source": []
  }
 ],
 "metadata": {
  "kernelspec": {
   "display_name": "Python 3",
   "language": "python",
   "name": "python3"
  },
  "language_info": {
   "codemirror_mode": {
    "name": "ipython",
    "version": 3
   },
   "file_extension": ".py",
   "mimetype": "text/x-python",
   "name": "python",
   "nbconvert_exporter": "python",
   "pygments_lexer": "ipython3",
   "version": "3.8.5"
  }
 },
 "nbformat": 4,
 "nbformat_minor": 4
}
